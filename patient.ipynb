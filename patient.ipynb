{
 "cells": [
  {
   "cell_type": "markdown",
   "metadata": {},
   "source": [
    "# Patient\n",
    "While we analise datasets, we must include a generic representation of a person infected by the virus (named as a patient). Thus, we created the `Patient` class which will contain properties that reflect all (or most) of the columns of each dataset."
   ]
  },
  {
   "cell_type": "code",
   "execution_count": 10,
   "metadata": {},
   "outputs": [],
   "source": [
    "class Patient:\n",
    "    \n",
    "    GENDER_MALE = 0\n",
    "    GENDER_FEMALE = 1\n",
    "    GENDER_OTHER = 2\n",
    "    \n",
    "    gender = None\n",
    "    \n",
    "    age = None\n",
    "    \n",
    "    dateDeceased = None"
   ]
  },
  {
   "cell_type": "code",
   "execution_count": null,
   "metadata": {},
   "outputs": [],
   "source": [
    "def validate_csv_to_json_schema():\n",
    "    \n",
    "    pass # end def"
   ]
  }
 ],
 "metadata": {
  "kernelspec": {
   "display_name": "Python 3",
   "language": "python",
   "name": "python3"
  },
  "language_info": {
   "codemirror_mode": {
    "name": "ipython",
    "version": 3
   },
   "file_extension": ".py",
   "mimetype": "text/x-python",
   "name": "python",
   "nbconvert_exporter": "python",
   "pygments_lexer": "ipython3",
   "version": "3.7.4"
  }
 },
 "nbformat": 4,
 "nbformat_minor": 2
}
