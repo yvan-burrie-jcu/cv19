{
 "cells": [
  {
   "cell_type": "markdown",
   "metadata": {
    "pycharm": {}
   },
   "source": [
    "# Philippines\n",
    "Dataset from the Republic of Philippine (PH) Department of Health (DOH)."
   ]
  },
  {
   "cell_type": "code",
   "execution_count": 302,
   "metadata": {
    "pycharm": {
     "is_executing": false
    }
   },
   "outputs": [],
   "source": [
    "import import_ipynb, patient"
   ]
  },
  {
   "cell_type": "markdown",
   "metadata": {},
   "source": [
    "## Reading the Data\n",
    "We will convert this CSV dataset to a Pandas `DataFrame`."
   ]
  },
  {
   "cell_type": "code",
   "execution_count": 303,
   "metadata": {
    "pycharm": {}
   },
   "outputs": [],
   "source": [
    "import pandas as pd\n",
    "\n",
    "data = pd.read_csv(filepath_or_buffer=\"datasets/DOH COVID Data Drop_ 20200521 - 04 Case Information.csv\")"
   ]
  },
  {
   "cell_type": "code",
   "execution_count": 304,
   "metadata": {},
   "outputs": [],
   "source": [
    "def apply_date(data, column):\n",
    "    data[column] = pd.to_datetime(data[column], format='%Y-%m-%d')\n",
    "    pass\n",
    "\n",
    "apply_date(data, \"DateRepConf\")\n",
    "apply_date(data, \"DateDied\")\n",
    "apply_date(data, \"DateRecover\")\n",
    "apply_date(data, \"DateRepRem\")\n",
    "apply_date(data, \"DateOnset\")"
   ]
  },
  {
   "cell_type": "markdown",
   "metadata": {},
   "source": [
    "The following is a sample of the data:"
   ]
  },
  {
   "cell_type": "code",
   "execution_count": 305,
   "metadata": {},
   "outputs": [
    {
     "name": "stdout",
     "output_type": "stream",
     "text": [
      "[nan 'Yes' 'No']\n",
      "[nan 'No' 'Yes']\n",
      "['Mild' 'Recovered' 'Asymptomatic' 'Died' 'Severe' 'Critical']\n"
     ]
    },
    {
     "data": {
      "text/html": [
       "<div>\n",
       "<style scoped>\n",
       "    .dataframe tbody tr th:only-of-type {\n",
       "        vertical-align: middle;\n",
       "    }\n",
       "\n",
       "    .dataframe tbody tr th {\n",
       "        vertical-align: top;\n",
       "    }\n",
       "\n",
       "    .dataframe thead th {\n",
       "        text-align: right;\n",
       "    }\n",
       "</style>\n",
       "<table border=\"1\" class=\"dataframe\">\n",
       "  <thead>\n",
       "    <tr style=\"text-align: right;\">\n",
       "      <th></th>\n",
       "      <th>Age</th>\n",
       "      <th>Sex</th>\n",
       "      <th>DateRepConf</th>\n",
       "      <th>DateDied</th>\n",
       "      <th>DateRecover</th>\n",
       "      <th>RemovalType</th>\n",
       "      <th>DateRepRem</th>\n",
       "      <th>Admitted</th>\n",
       "      <th>RegionRes</th>\n",
       "      <th>ProvRes</th>\n",
       "      <th>CityMunRes</th>\n",
       "      <th>CityMuniPSGC</th>\n",
       "      <th>HealthStatus</th>\n",
       "      <th>Quarantined</th>\n",
       "      <th>DateOnset</th>\n",
       "    </tr>\n",
       "  </thead>\n",
       "  <tbody>\n",
       "    <tr>\n",
       "      <td>0</td>\n",
       "      <td>53.0</td>\n",
       "      <td>Female</td>\n",
       "      <td>2020-05-11</td>\n",
       "      <td>NaT</td>\n",
       "      <td>NaT</td>\n",
       "      <td>NaN</td>\n",
       "      <td>NaT</td>\n",
       "      <td>NaN</td>\n",
       "      <td>Region IV-A: CALABARZON</td>\n",
       "      <td>LAGUNA</td>\n",
       "      <td>CITY OF SAN PEDRO</td>\n",
       "      <td>PH043425000</td>\n",
       "      <td>Mild</td>\n",
       "      <td>NaN</td>\n",
       "      <td>NaT</td>\n",
       "    </tr>\n",
       "    <tr>\n",
       "      <td>1</td>\n",
       "      <td>31.0</td>\n",
       "      <td>Male</td>\n",
       "      <td>2020-04-12</td>\n",
       "      <td>NaT</td>\n",
       "      <td>NaT</td>\n",
       "      <td>Recovered</td>\n",
       "      <td>2020-05-11</td>\n",
       "      <td>Yes</td>\n",
       "      <td>NCR</td>\n",
       "      <td>METRO MANILA</td>\n",
       "      <td>CITY OF PARAÑAQUE</td>\n",
       "      <td>PH137604000</td>\n",
       "      <td>Recovered</td>\n",
       "      <td>No</td>\n",
       "      <td>2020-03-23</td>\n",
       "    </tr>\n",
       "    <tr>\n",
       "      <td>2</td>\n",
       "      <td>33.0</td>\n",
       "      <td>Female</td>\n",
       "      <td>2020-05-19</td>\n",
       "      <td>NaT</td>\n",
       "      <td>NaT</td>\n",
       "      <td>NaN</td>\n",
       "      <td>NaT</td>\n",
       "      <td>NaN</td>\n",
       "      <td>Repatriate</td>\n",
       "      <td>NaN</td>\n",
       "      <td>NaN</td>\n",
       "      <td>NaN</td>\n",
       "      <td>Mild</td>\n",
       "      <td>NaN</td>\n",
       "      <td>NaT</td>\n",
       "    </tr>\n",
       "    <tr>\n",
       "      <td>3</td>\n",
       "      <td>58.0</td>\n",
       "      <td>Male</td>\n",
       "      <td>2020-03-29</td>\n",
       "      <td>NaT</td>\n",
       "      <td>NaT</td>\n",
       "      <td>NaN</td>\n",
       "      <td>NaT</td>\n",
       "      <td>No</td>\n",
       "      <td>NCR</td>\n",
       "      <td>METRO MANILA</td>\n",
       "      <td>CITY OF MANDALUYONG</td>\n",
       "      <td>PH137401000</td>\n",
       "      <td>Mild</td>\n",
       "      <td>NaN</td>\n",
       "      <td>2020-03-14</td>\n",
       "    </tr>\n",
       "    <tr>\n",
       "      <td>4</td>\n",
       "      <td>35.0</td>\n",
       "      <td>Male</td>\n",
       "      <td>2020-05-21</td>\n",
       "      <td>NaT</td>\n",
       "      <td>NaT</td>\n",
       "      <td>NaN</td>\n",
       "      <td>NaT</td>\n",
       "      <td>NaN</td>\n",
       "      <td>Region VII: Central Visayas</td>\n",
       "      <td>CEBU PROVINCE</td>\n",
       "      <td>NaN</td>\n",
       "      <td>NaN</td>\n",
       "      <td>Mild</td>\n",
       "      <td>NaN</td>\n",
       "      <td>NaT</td>\n",
       "    </tr>\n",
       "    <tr>\n",
       "      <td>...</td>\n",
       "      <td>...</td>\n",
       "      <td>...</td>\n",
       "      <td>...</td>\n",
       "      <td>...</td>\n",
       "      <td>...</td>\n",
       "      <td>...</td>\n",
       "      <td>...</td>\n",
       "      <td>...</td>\n",
       "      <td>...</td>\n",
       "      <td>...</td>\n",
       "      <td>...</td>\n",
       "      <td>...</td>\n",
       "      <td>...</td>\n",
       "      <td>...</td>\n",
       "      <td>...</td>\n",
       "    </tr>\n",
       "    <tr>\n",
       "      <td>13429</td>\n",
       "      <td>54.0</td>\n",
       "      <td>Female</td>\n",
       "      <td>2020-04-27</td>\n",
       "      <td>NaT</td>\n",
       "      <td>NaT</td>\n",
       "      <td>NaN</td>\n",
       "      <td>NaT</td>\n",
       "      <td>NaN</td>\n",
       "      <td>NCR</td>\n",
       "      <td>METRO MANILA</td>\n",
       "      <td>CITY OF MANDALUYONG</td>\n",
       "      <td>PH137401000</td>\n",
       "      <td>Mild</td>\n",
       "      <td>NaN</td>\n",
       "      <td>NaT</td>\n",
       "    </tr>\n",
       "    <tr>\n",
       "      <td>13430</td>\n",
       "      <td>38.0</td>\n",
       "      <td>Male</td>\n",
       "      <td>2020-04-29</td>\n",
       "      <td>NaT</td>\n",
       "      <td>NaT</td>\n",
       "      <td>NaN</td>\n",
       "      <td>NaT</td>\n",
       "      <td>NaN</td>\n",
       "      <td>Repatriate</td>\n",
       "      <td>NaN</td>\n",
       "      <td>NaN</td>\n",
       "      <td>NaN</td>\n",
       "      <td>Mild</td>\n",
       "      <td>NaN</td>\n",
       "      <td>NaT</td>\n",
       "    </tr>\n",
       "    <tr>\n",
       "      <td>13431</td>\n",
       "      <td>50.0</td>\n",
       "      <td>Female</td>\n",
       "      <td>2020-04-13</td>\n",
       "      <td>NaT</td>\n",
       "      <td>NaT</td>\n",
       "      <td>NaN</td>\n",
       "      <td>NaT</td>\n",
       "      <td>NaN</td>\n",
       "      <td>NCR</td>\n",
       "      <td>METRO MANILA</td>\n",
       "      <td>CITY OF MANDALUYONG</td>\n",
       "      <td>PH137401000</td>\n",
       "      <td>Mild</td>\n",
       "      <td>NaN</td>\n",
       "      <td>2020-03-29</td>\n",
       "    </tr>\n",
       "    <tr>\n",
       "      <td>13432</td>\n",
       "      <td>87.0</td>\n",
       "      <td>Male</td>\n",
       "      <td>2020-05-12</td>\n",
       "      <td>NaT</td>\n",
       "      <td>NaT</td>\n",
       "      <td>NaN</td>\n",
       "      <td>NaT</td>\n",
       "      <td>NaN</td>\n",
       "      <td>NCR</td>\n",
       "      <td>METRO MANILA</td>\n",
       "      <td>NaN</td>\n",
       "      <td>NaN</td>\n",
       "      <td>Mild</td>\n",
       "      <td>NaN</td>\n",
       "      <td>NaT</td>\n",
       "    </tr>\n",
       "    <tr>\n",
       "      <td>13433</td>\n",
       "      <td>52.0</td>\n",
       "      <td>Male</td>\n",
       "      <td>2020-05-12</td>\n",
       "      <td>NaT</td>\n",
       "      <td>NaT</td>\n",
       "      <td>NaN</td>\n",
       "      <td>NaT</td>\n",
       "      <td>NaN</td>\n",
       "      <td>Region IV-A: CALABARZON</td>\n",
       "      <td>CAVITE</td>\n",
       "      <td>BACOOR CITY</td>\n",
       "      <td>PH042103000</td>\n",
       "      <td>Mild</td>\n",
       "      <td>NaN</td>\n",
       "      <td>NaT</td>\n",
       "    </tr>\n",
       "  </tbody>\n",
       "</table>\n",
       "<p>13434 rows × 15 columns</p>\n",
       "</div>"
      ],
      "text/plain": [
       "        Age     Sex DateRepConf DateDied DateRecover RemovalType DateRepRem  \\\n",
       "0      53.0  Female  2020-05-11      NaT         NaT         NaN        NaT   \n",
       "1      31.0    Male  2020-04-12      NaT         NaT   Recovered 2020-05-11   \n",
       "2      33.0  Female  2020-05-19      NaT         NaT         NaN        NaT   \n",
       "3      58.0    Male  2020-03-29      NaT         NaT         NaN        NaT   \n",
       "4      35.0    Male  2020-05-21      NaT         NaT         NaN        NaT   \n",
       "...     ...     ...         ...      ...         ...         ...        ...   \n",
       "13429  54.0  Female  2020-04-27      NaT         NaT         NaN        NaT   \n",
       "13430  38.0    Male  2020-04-29      NaT         NaT         NaN        NaT   \n",
       "13431  50.0  Female  2020-04-13      NaT         NaT         NaN        NaT   \n",
       "13432  87.0    Male  2020-05-12      NaT         NaT         NaN        NaT   \n",
       "13433  52.0    Male  2020-05-12      NaT         NaT         NaN        NaT   \n",
       "\n",
       "      Admitted                    RegionRes        ProvRes  \\\n",
       "0          NaN      Region IV-A: CALABARZON         LAGUNA   \n",
       "1          Yes                          NCR   METRO MANILA   \n",
       "2          NaN                   Repatriate            NaN   \n",
       "3           No                          NCR   METRO MANILA   \n",
       "4          NaN  Region VII: Central Visayas  CEBU PROVINCE   \n",
       "...        ...                          ...            ...   \n",
       "13429      NaN                          NCR   METRO MANILA   \n",
       "13430      NaN                   Repatriate            NaN   \n",
       "13431      NaN                          NCR   METRO MANILA   \n",
       "13432      NaN                          NCR   METRO MANILA   \n",
       "13433      NaN      Region IV-A: CALABARZON         CAVITE   \n",
       "\n",
       "                CityMunRes CityMuniPSGC HealthStatus Quarantined  DateOnset  \n",
       "0        CITY OF SAN PEDRO  PH043425000         Mild         NaN        NaT  \n",
       "1        CITY OF PARAÑAQUE  PH137604000    Recovered          No 2020-03-23  \n",
       "2                      NaN          NaN         Mild         NaN        NaT  \n",
       "3      CITY OF MANDALUYONG  PH137401000         Mild         NaN 2020-03-14  \n",
       "4                      NaN          NaN         Mild         NaN        NaT  \n",
       "...                    ...          ...          ...         ...        ...  \n",
       "13429  CITY OF MANDALUYONG  PH137401000         Mild         NaN        NaT  \n",
       "13430                  NaN          NaN         Mild         NaN        NaT  \n",
       "13431  CITY OF MANDALUYONG  PH137401000         Mild         NaN 2020-03-29  \n",
       "13432                  NaN          NaN         Mild         NaN        NaT  \n",
       "13433          BACOOR CITY  PH042103000         Mild         NaN        NaT  \n",
       "\n",
       "[13434 rows x 15 columns]"
      ]
     },
     "metadata": {},
     "output_type": "display_data"
    }
   ],
   "source": [
    "print(data[\"Admitted\"].unique())\n",
    "print(data[\"Pregnanttab\"].unique())\n",
    "print(data[\"HealthStatus\"].unique())\n",
    "\n",
    "rejects = [\n",
    "    \"CaseCode\",\n",
    "    \"AgeGroup\",\n",
    "    \"Pregnanttab\",\n",
    "]\n",
    "data = data.drop(columns=rejects)\n",
    "display(data)"
   ]
  },
  {
   "cell_type": "markdown",
   "metadata": {},
   "source": [
    "## Checking the Data"
   ]
  },
  {
   "cell_type": "markdown",
   "metadata": {},
   "source": [
    "We need a JSON schema to validate our data.\n",
    "\n",
    "The properties that interest us most are:\n",
    " - `Age`\n",
    " - `Sex` (gender)\n",
    " - `DateRepConf` (date rep confirmed)\n",
    " - `DateDied` (deceased)\n",
    " - `DateRecover`\n",
    " - ``\n",
    "\n",
    "Fortunately, the source of this dataset provided descriptions of each property\n",
    "\n",
    "Unfortunately, we have determined that the `Pregnanttab` (pregnant) property is unreliable because it is either `None` or `\"No\"`, and thus does not specify whether the patient was either confirmed or unknown of being pregnant."
   ]
  },
  {
   "cell_type": "code",
   "execution_count": 306,
   "metadata": {},
   "outputs": [],
   "source": [
    "schema = {\n",
    "    \"type\": \"array\",\n",
    "    \"items\": {\n",
    "        \"type\": \"object\",\n",
    "        \"properties\": {\n",
    "            \"Age\": {\n",
    "                \"anyOf\": [\n",
    "                    {\n",
    "                        \"type\": \"number\",\n",
    "                        \"minimum\": 0\n",
    "                    },\n",
    "                    {\n",
    "                        \"type\": \"null\"\n",
    "                    }\n",
    "                ]\n",
    "            },\n",
    "            \"Sex\": {\n",
    "                \"enum\": [\n",
    "                    \"Male\",\n",
    "                    \"Female\"\n",
    "                ]\n",
    "            },\n",
    "            \"RemovalType\": {\n",
    "            },\n",
    "            \"Admitted\": {\n",
    "            },\n",
    "            \"CityMuniPSGC\": {\n",
    "            },\n",
    "            \"HealthStatus\": {\n",
    "            },\n",
    "            \"Quarantined\": {\n",
    "            },\n",
    "            \"DateOnset\": {\n",
    "                \"type\": \"integer\"\n",
    "            }\n",
    "        }\n",
    "    }\n",
    "}"
   ]
  },
  {
   "cell_type": "markdown",
   "metadata": {},
   "source": [
    "Now that we have the schema, we will convert our `DataFrame` to JSON data so that we can perform validation.\n",
    "\n",
    "Note that we could have used the `pandas_schema` package (https://pypi.org/project/pandas-schema/)."
   ]
  },
  {
   "cell_type": "code",
   "execution_count": 307,
   "metadata": {
    "pycharm": {}
   },
   "outputs": [],
   "source": [
    "import json\n",
    "\n",
    "json_data = json.loads(data.to_json(orient=\"records\"))"
   ]
  },
  {
   "cell_type": "markdown",
   "metadata": {},
   "source": [
    "Note that the orientation must be set to records since that is the format which our schema follows."
   ]
  },
  {
   "cell_type": "markdown",
   "metadata": {},
   "source": [
    "Now that we have the JSON data and schema, we simply check if our data is valid."
   ]
  },
  {
   "cell_type": "code",
   "execution_count": 308,
   "metadata": {},
   "outputs": [
    {
     "ename": "ValidationError",
     "evalue": "None is not of type 'integer'\n\nFailed validating 'type' in schema['items']['properties']['DateOnset']:\n    {'type': 'integer'}\n\nOn instance[0]['DateOnset']:\n    None",
     "output_type": "error",
     "traceback": [
      "\u001b[1;31m---------------------------------------------------------------------------\u001b[0m",
      "\u001b[1;31mValidationError\u001b[0m                           Traceback (most recent call last)",
      "\u001b[1;32m<ipython-input-308-f1c25a4da67b>\u001b[0m in \u001b[0;36m<module>\u001b[1;34m\u001b[0m\n\u001b[0;32m      1\u001b[0m \u001b[1;32mimport\u001b[0m \u001b[0mjsonschema\u001b[0m\u001b[1;33m\u001b[0m\u001b[1;33m\u001b[0m\u001b[0m\n\u001b[0;32m      2\u001b[0m \u001b[1;33m\u001b[0m\u001b[0m\n\u001b[1;32m----> 3\u001b[1;33m \u001b[0mjsonschema\u001b[0m\u001b[1;33m.\u001b[0m\u001b[0mvalidate\u001b[0m\u001b[1;33m(\u001b[0m\u001b[0mjson_data\u001b[0m\u001b[1;33m,\u001b[0m \u001b[0mschema\u001b[0m\u001b[1;33m)\u001b[0m\u001b[1;33m\u001b[0m\u001b[1;33m\u001b[0m\u001b[0m\n\u001b[0m",
      "\u001b[1;32mF:\\Anaconda3\\lib\\site-packages\\jsonschema\\validators.py\u001b[0m in \u001b[0;36mvalidate\u001b[1;34m(instance, schema, cls, *args, **kwargs)\u001b[0m\n\u001b[0;32m    897\u001b[0m     \u001b[0merror\u001b[0m \u001b[1;33m=\u001b[0m \u001b[0mexceptions\u001b[0m\u001b[1;33m.\u001b[0m\u001b[0mbest_match\u001b[0m\u001b[1;33m(\u001b[0m\u001b[0mvalidator\u001b[0m\u001b[1;33m.\u001b[0m\u001b[0miter_errors\u001b[0m\u001b[1;33m(\u001b[0m\u001b[0minstance\u001b[0m\u001b[1;33m)\u001b[0m\u001b[1;33m)\u001b[0m\u001b[1;33m\u001b[0m\u001b[1;33m\u001b[0m\u001b[0m\n\u001b[0;32m    898\u001b[0m     \u001b[1;32mif\u001b[0m \u001b[0merror\u001b[0m \u001b[1;32mis\u001b[0m \u001b[1;32mnot\u001b[0m \u001b[1;32mNone\u001b[0m\u001b[1;33m:\u001b[0m\u001b[1;33m\u001b[0m\u001b[1;33m\u001b[0m\u001b[0m\n\u001b[1;32m--> 899\u001b[1;33m         \u001b[1;32mraise\u001b[0m \u001b[0merror\u001b[0m\u001b[1;33m\u001b[0m\u001b[1;33m\u001b[0m\u001b[0m\n\u001b[0m\u001b[0;32m    900\u001b[0m \u001b[1;33m\u001b[0m\u001b[0m\n\u001b[0;32m    901\u001b[0m \u001b[1;33m\u001b[0m\u001b[0m\n",
      "\u001b[1;31mValidationError\u001b[0m: None is not of type 'integer'\n\nFailed validating 'type' in schema['items']['properties']['DateOnset']:\n    {'type': 'integer'}\n\nOn instance[0]['DateOnset']:\n    None"
     ]
    }
   ],
   "source": [
    "import jsonschema\n",
    "\n",
    "jsonschema.validate(json_data, schema)"
   ]
  },
  {
   "cell_type": "markdown",
   "metadata": {
    "pycharm": {}
   },
   "source": [
    "> No errors should be raised here if the data is valid."
   ]
  },
  {
   "cell_type": "markdown",
   "metadata": {},
   "source": [
    "## "
   ]
  }
 ],
 "metadata": {
  "kernelspec": {
   "display_name": "Python 3",
   "language": "python",
   "name": "python3"
  },
  "language_info": {
   "codemirror_mode": {
    "name": "ipython",
    "version": 3
   },
   "file_extension": ".py",
   "mimetype": "text/x-python",
   "name": "python",
   "nbconvert_exporter": "python",
   "pygments_lexer": "ipython3",
   "version": "3.7.4"
  }
 },
 "nbformat": 4,
 "nbformat_minor": 2
}
